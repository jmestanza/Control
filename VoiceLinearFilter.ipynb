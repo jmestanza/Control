{
  "nbformat": 4,
  "nbformat_minor": 0,
  "metadata": {
    "colab": {
      "name": "VoiceLinearFilter.ipynb",
      "provenance": [],
      "collapsed_sections": [],
      "toc_visible": true,
      "machine_shape": "hm",
      "include_colab_link": true
    },
    "kernelspec": {
      "name": "python3",
      "display_name": "Python 3"
    }
  },
  "cells": [
    {
      "cell_type": "markdown",
      "metadata": {
        "id": "view-in-github",
        "colab_type": "text"
      },
      "source": [
        "<a href=\"https://colab.research.google.com/github/jmestanza/Control/blob/master/VoiceLinearFilter.ipynb\" target=\"_parent\"><img src=\"https://colab.research.google.com/assets/colab-badge.svg\" alt=\"Open In Colab\"/></a>"
      ]
    },
    {
      "cell_type": "markdown",
      "metadata": {
        "id": "WlGB822rWzX8",
        "colab_type": "text"
      },
      "source": [
        "#Guía 3: Laboratorio de predicción lineal\n",
        "Grupo 1: \n",
        "\n",
        "Integrantes:\n",
        "\n",
        "\n",
        "Gonzalez Orlando, Tomás Agustin\n",
        "\n",
        "Mestanza, Joaquín Matías\n"
      ]
    },
    {
      "cell_type": "markdown",
      "metadata": {
        "id": "AzXNzCjgXknd",
        "colab_type": "text"
      },
      "source": [
        "###Importamos los datos  y el contenido de las librerias a utilizar"
      ]
    },
    {
      "cell_type": "code",
      "metadata": {
        "id": "uG4wLteaVTFT",
        "colab_type": "code",
        "colab": {}
      },
      "source": [
        "\n",
        "import numpy as np\n",
        "import matplotlib.pyplot as plt\n",
        "from scipy.io.wavfile import read\n",
        "from IPython.display import Audio\n",
        "from scipy.linalg import toeplitz\n",
        "import librosa    \n",
        "\n",
        "\n",
        "from IPython.display import clear_output\n",
        "! wget \"https://raw.githubusercontent.com/taomasgonzalez/Voice-Linear-Filter/master/data/A2segs_44k1.wav\"\n",
        "! wget \"https://raw.githubusercontent.com/taomasgonzalez/Voice-Linear-Filter/master/data/SH2segs_44k1.wav\"\n",
        "clear_output()"
      ],
      "execution_count": 0,
      "outputs": []
    },
    {
      "cell_type": "markdown",
      "metadata": {
        "id": "ANHz3AvIXqoD",
        "colab_type": "text"
      },
      "source": [
        "###Creamos las funciones necesarias para el desarrollo del TP"
      ]
    },
    {
      "cell_type": "code",
      "metadata": {
        "id": "CVtIwyJ0VmHN",
        "colab_type": "code",
        "colab": {}
      },
      "source": [
        "\n",
        "def get_mono_array(stereo_file_name):\n",
        "    file = read(stereo_file_name)\n",
        "    fs = file[0]\n",
        "    datos = np.array(file[1],dtype=float) \n",
        "    print('Archivo leido: ', stereo_file_name, 'fs : ',fs)\n",
        "    if len(np.shape(datos))>1: #si tiene dos canales\n",
        "        ch0 = datos[:, 0]\n",
        "        ch1 = datos[:, 1]\n",
        "        datos = (ch0 + ch1)/2  # o lo hacemos mono\n",
        "    return fs, datos\n",
        "\n",
        "    \n",
        "def get_autocorrelation(u):\n",
        "    \n",
        "    u = np.concatenate((np.array(u), np.zeros(len(u))), axis=None)\n",
        "    u_f = np.fft.fft(u)\n",
        "    ##Estimo rxx\n",
        "    rxx = np.fft.ifft(u_f * u_f.conj()).real\n",
        "    rxx = rxx[:len(u)//2]/len(u)\n",
        "\n",
        "    return rxx\n",
        "\n",
        "def getJplotWfandu_n(audio, size):\n",
        "    J = []\n",
        "    wf = []\n",
        "    u_n_hat = []\n",
        "    u_n = audio[-1] # nos quedamos con la ultima muestra\n",
        "    u_n_minus1 = audio[:len(audio)-1] # esto es [...u(n-2),u(n-1)]\n",
        "    u_n_minus1 = np.flip(u_n_minus1) # esto es [u(n-1), u(n-2),...]\n",
        "    rxx = get_autocorrelation(u_n_minus1) \n",
        "    for M in range(1,size+1):\n",
        "        # quiero hacer la prediccion con todo el arreglo menos la muestra\n",
        "        # a estimar\n",
        "        rxx_= rxx[:M] # esto toma los valores desde 0 hasta M-1 inclusive\n",
        "        r = rxx[1:M+1]\n",
        "        R = toeplitz(rxx_)\n",
        "        wf_actual = np.linalg.solve(R, r)\n",
        "        # Pm es el error cuadrático medio de predicción forward! o sea que Pm es\n",
        "        # el J de la consigna\n",
        "        J_actual = rxx[0]- np.matmul(r.conj().transpose(),wf_actual)\n",
        "        J.append(J_actual)\n",
        "        # J tiene que dar mayor que cero!!! Pm = E{|fM(n)|^2}\n",
        "        u_n_hat_actual = 0\n",
        "        for k in range(0,M):\n",
        "            u_n_hat_actual += wf_actual[k].conjugate()*u_n_minus1[k] # [u(n-1), u(n-2),...]\n",
        "        u_n_hat.append(u_n_hat_actual)\n",
        "        \n",
        "    return J, wf, u_n_hat, u_n\n",
        "\n",
        "\n",
        "def getSquaredError(u_n_hat_k, u_n):\n",
        "    error = u_n-u_n_hat_k\n",
        "    return error**2\n"
      ],
      "execution_count": 0,
      "outputs": []
    },
    {
      "cell_type": "markdown",
      "metadata": {
        "id": "qlFlb7qSXy4M",
        "colab_type": "text"
      },
      "source": [
        "###Guardamos los audios en el diccionario sound_dict"
      ]
    },
    {
      "cell_type": "code",
      "metadata": {
        "id": "H4dd92lZViaQ",
        "colab_type": "code",
        "outputId": "57ad08b3-3296-4f68-b27f-e55255dc18b6",
        "colab": {
          "base_uri": "https://localhost:8080/",
          "height": 54
        }
      },
      "source": [
        "# guardamos los audios\n",
        "sound_dict = {'A': 'A2segs_44k1.wav', 'SH' : 'SH2segs_44k1.wav' }\n",
        "sound_arrays = {}\n",
        "\n",
        "for sound_name in sound_dict:\n",
        "    sound_arr, fs = librosa.load(sound_dict[sound_name], sr=8000) # Downsample 44.1kHz to 8kHz\n",
        "    print('Agregando ',sound_dict[sound_name], ' fs ', fs)\n",
        "    sound_arrays[sound_name] = sound_arr # agrego al diccionario el arreglo y para llamarlo uso el nombre"
      ],
      "execution_count": 4,
      "outputs": [
        {
          "output_type": "stream",
          "text": [
            "Agregando  A2segs_44k1.wav  fs  8000\n",
            "Agregando  SH2segs_44k1.wav  fs  8000\n"
          ],
          "name": "stdout"
        }
      ]
    },
    {
      "cell_type": "markdown",
      "metadata": {
        "id": "8vGoYztsX8SQ",
        "colab_type": "text"
      },
      "source": [
        "##Realización de la predicción forward con $N_{0}$ =1 y representación del error cuadrático medio J en función de M con entre 0 y 100"
      ]
    },
    {
      "cell_type": "markdown",
      "metadata": {
        "id": "yvtVbjFuYaA3",
        "colab_type": "text"
      },
      "source": [
        "###Caso /a/"
      ]
    },
    {
      "cell_type": "code",
      "metadata": {
        "id": "G1Nd3dTKOHAf",
        "colab_type": "code",
        "outputId": "c9282b97-4d72-4811-e402-eb578995c085",
        "colab": {
          "base_uri": "https://localhost:8080/",
          "height": 305
        }
      },
      "source": [
        "size = 100 \n",
        "audio = sound_arrays['A']\n",
        "J, wf, u_n_hat, u_n = getJplotWfandu_n(audio,size)\n",
        "plt.plot(J)\n",
        "u_n_hat_k = u_n_hat[-1] \n",
        "error_squared = getSquaredError(u_n_hat_k, u_n)\n",
        "print('Comparamos el J con el error al cuadrado:')\n",
        "print('J (con M= ',size,')=', J[-1],'  Error al cuadrado:', error_squared)\n",
        "\n"
      ],
      "execution_count": 19,
      "outputs": [
        {
          "output_type": "stream",
          "text": [
            "Comparamos el J con el error al cuadrado:\n",
            "J (con M=  100 )= 7.840549101102836e-07   Error al cuadrado: 1.0914521877946575e-07\n"
          ],
          "name": "stdout"
        },
        {
          "output_type": "display_data",
          "data": {
            "image/png": "[encoded data removed]",
            "text/plain": [
              "<Figure size 432x288 with 1 Axes>"
            ]
          },
          "metadata": {
            "tags": []
          }
        }
      ]
    },
    {
      "cell_type": "markdown",
      "metadata": {
        "id": "hbJA-8OQYsfF",
        "colab_type": "text"
      },
      "source": [
        "###Caso /sh/"
      ]
    },
    {
      "cell_type": "code",
      "metadata": {
        "id": "l9PcVZG-AU5d",
        "colab_type": "code",
        "outputId": "ac845d00-0aa0-4beb-dce6-adc3880f4be1",
        "colab": {
          "base_uri": "https://localhost:8080/",
          "height": 305
        }
      },
      "source": [
        "size = 100 \n",
        "audio = sound_arrays['SH']\n",
        "J, wf, u_n_hat, u_n = getJplotWfandu_n(audio,size)\n",
        "plt.plot(J)\n",
        "u_n_hat_k = u_n_hat[-1] \n",
        "error_squared = getSquaredError(u_n_hat_k, u_n)\n",
        "print('Comparamos el J con el error al cuadrado:')\n",
        "print('J (con M= ',size,')=', J[-1],'  Error al cuadrado:', error_squared)"
      ],
      "execution_count": 22,
      "outputs": [
        {
          "output_type": "stream",
          "text": [
            "Comparamos el J con el error al cuadrado:\n",
            "J (con M=  100 )= 3.5893644564081857e-07   Error al cuadrado: 3.789078123552962e-07\n"
          ],
          "name": "stdout"
        },
        {
          "output_type": "display_data",
          "data": {
            "image/png": "[encoded data removed]",
            "text/plain": [
              "<Figure size 432x288 with 1 Axes>"
            ]
          },
          "metadata": {
            "tags": []
          }
        }
      ]
    },
    {
      "cell_type": "markdown",
      "metadata": {
        "id": "EQ_rzb2Ig-aG",
        "colab_type": "text"
      },
      "source": [
        "##Algoritmo de Levinson-Durbin"
      ]
    },
    {
      "cell_type": "code",
      "metadata": {
        "id": "z-zffVeChhmt",
        "colab_type": "code",
        "colab": {}
      },
      "source": [
        "# esto es una prueba\n",
        "audio = sound_arrays['A']\n",
        "M = 5\n",
        "r = get_autocorrelation(audio)\n",
        "r = r[:M+2] # r[0], r[1], r[M], r[M+1] agrego r[M+1] porque hay un\n",
        "# caso en el cual lo necesita calcular\n",
        "P = []\n",
        "delta = []\n",
        "k = []\n",
        "a = [[0 for i in range(M+1)] for j in range(M+1)]\n",
        "#a = np.zeros((M+1,M+1))\n",
        "\n",
        "for m in range(M+1):\n",
        "    for j in range(M+1):\n",
        "        if j == 0:\n",
        "            a[m][j]=1\n",
        "            \n",
        "P.append(r[0])\n",
        "delta.append(r[1].conjugate())\n",
        "a.append(1)\n",
        "for m in range(1,M+1):\n",
        "    km = -delta[m-1]/P[m-1]\n",
        "    for k_index in range(1,m+1):\n",
        "        a[m][k_index] = a[m-1][k_index] + km * a[m-1][m-k_index]\n",
        "        \n",
        "    suma = 0\n",
        "    for l in range(0,m+1):\n",
        "        suma += r[m+1-l]* a[m][l] \n",
        "    delta.append(suma+r[m+1]) # este es el caso en el que necesita r[M+1]\n",
        "    P.append(P[m-1]*(1-km**2 ))\n",
        "    "
      ],
      "execution_count": 0,
      "outputs": []
    }
  ]
}