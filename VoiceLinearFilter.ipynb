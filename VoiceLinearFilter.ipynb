{
  "nbformat": 4,
  "nbformat_minor": 0,
  "metadata": {
    "colab": {
      "name": "VoiceLinearFilter.ipynb",
      "provenance": [],
      "collapsed_sections": [],
      "include_colab_link": true
    },
    "kernelspec": {
      "name": "python3",
      "display_name": "Python 3"
    }
  },
  "cells": [
    {
      "cell_type": "markdown",
      "metadata": {
        "id": "view-in-github",
        "colab_type": "text"
      },
      "source": [
        "<a href=\"https://colab.research.google.com/github/jmestanza/Control/blob/master/VoiceLinearFilter.ipynb\" target=\"_parent\"><img src=\"https://colab.research.google.com/assets/colab-badge.svg\" alt=\"Open In Colab\"/></a>"
      ]
    },
    {
      "cell_type": "code",
      "metadata": {
        "id": "uG4wLteaVTFT",
        "colab_type": "code",
        "colab": {}
      },
      "source": [
        "#Importamos los datos  y el contenido de las librerias a utilizar\n",
        "import numpy as np\n",
        "from scipy.io.wavfile import read\n",
        "from IPython.display import Audio\n",
        "from scipy.linalg import toeplitz\n",
        "\n",
        "from IPython.display import clear_output\n",
        "! wget \"https://raw.githubusercontent.com/jmestanza/Guia_2_PASA/master/data/originales/kickpush.wav\"\n",
        "clear_output()"
      ],
      "execution_count": 0,
      "outputs": []
    },
    {
      "cell_type": "code",
      "metadata": {
        "id": "HsTBZN6SQHKQ",
        "colab_type": "code",
        "colab": {
          "base_uri": "https://localhost:8080/",
          "height": 34
        },
        "outputId": "2a1f5403-2cd9-43b6-f1ae-7517121c4996"
      },
      "source": [
        "#Creamos las funciones necesarias para el desarrollo del TP\n",
        "def get_mono_array(stereo_file_name):\n",
        "    file = read(stereo_file_name)\n",
        "    fs = file[0]\n",
        "    datos = np.array(file[1],dtype=float) \n",
        "    print('Archivo leido: ', stereo_file_name, 'fs : ',fs)\n",
        "    if len(np.shape(datos))>1: #si tiene dos canales\n",
        "        ch0 = datos[:, 0]\n",
        "        ch1 = datos[:, 1]\n",
        "        datos = (ch0 + ch1)/2  # o lo hacemos mono\n",
        "    return fs, datos\n",
        "\n",
        "\n",
        "def get_estimations(un,unminus1):\n",
        "    un_f = np.fft.fft(un)\n",
        "    unminus1_f = np.fft.fft(unminus1)\n",
        "    \n",
        "    ##Estimo rxx\n",
        "    rxx = np.fft.ifft(un_f * un_f.conj()).real\n",
        "    rxx = rxx[:len(un)//2]/len(un)\n",
        "    ##Estimo r\n",
        "    r = np.fft.ifft(un_f * unminus1_f.conj()).real\n",
        "    r = r[len(un)//2:]/len(un)\n",
        "    r = np.flip(r)\n",
        "\n",
        "    ##Estimo la energia de d\n",
        "    s2d = np.var(d)\n",
        "    return r,p,s2d\n",
        "\n",
        "fs, stereo_audio = get_mono_array('kickpush.wav')\n",
        "#Audio(stereo_audio,rate=fs)\n",
        "\n"
      ],
      "execution_count": 25,
      "outputs": [
        {
          "output_type": "stream",
          "text": [
            "Archivo leido:  kickpush.wav fs :  48000\n"
          ],
          "name": "stdout"
        }
      ]
    },
    {
      "cell_type": "code",
      "metadata": {
        "id": "-1rPV6L5YQdp",
        "colab_type": "code",
        "colab": {
          "base_uri": "https://localhost:8080/",
          "height": 457
        },
        "outputId": "486c4d0d-5407-4601-f98e-910bd0f74aba"
      },
      "source": [
        "M = 5\n",
        "split_audio = np.split(stereo_audio,M)\n",
        "\n",
        "#para una particion en particular seria algo como:\n",
        "\n",
        "unminus1= split_audio[0]\n",
        "un = split_audio[1]\n",
        "rxx, r = get_estimations(un,unminus1)\n",
        "R = toeplitz(rxx)\n",
        "wf = np.linalg.solve(R, r)\n",
        "\n",
        "\n",
        "\n",
        "\n",
        "\n",
        "\n"
      ],
      "execution_count": 26,
      "outputs": [
        {
          "output_type": "error",
          "ename": "ValueError",
          "evalue": "ignored",
          "traceback": [
            "\u001b[0;31m---------------------------------------------------------------------------\u001b[0m",
            "\u001b[0;31mTypeError\u001b[0m                                 Traceback (most recent call last)",
            "\u001b[0;32m/usr/local/lib/python3.6/dist-packages/numpy/lib/shape_base.py\u001b[0m in \u001b[0;36msplit\u001b[0;34m(ary, indices_or_sections, axis)\u001b[0m\n\u001b[1;32m    842\u001b[0m     \u001b[0;32mtry\u001b[0m\u001b[0;34m:\u001b[0m\u001b[0;34m\u001b[0m\u001b[0;34m\u001b[0m\u001b[0m\n\u001b[0;32m--> 843\u001b[0;31m         \u001b[0mlen\u001b[0m\u001b[0;34m(\u001b[0m\u001b[0mindices_or_sections\u001b[0m\u001b[0;34m)\u001b[0m\u001b[0;34m\u001b[0m\u001b[0;34m\u001b[0m\u001b[0m\n\u001b[0m\u001b[1;32m    844\u001b[0m     \u001b[0;32mexcept\u001b[0m \u001b[0mTypeError\u001b[0m\u001b[0;34m:\u001b[0m\u001b[0;34m\u001b[0m\u001b[0;34m\u001b[0m\u001b[0m\n",
            "\u001b[0;31mTypeError\u001b[0m: object of type 'int' has no len()",
            "\nDuring handling of the above exception, another exception occurred:\n",
            "\u001b[0;31mValueError\u001b[0m                                Traceback (most recent call last)",
            "\u001b[0;32m<ipython-input-26-5c7c23a23dfb>\u001b[0m in \u001b[0;36m<module>\u001b[0;34m()\u001b[0m\n\u001b[1;32m      1\u001b[0m \u001b[0mM\u001b[0m \u001b[0;34m=\u001b[0m \u001b[0;36m5\u001b[0m\u001b[0;34m\u001b[0m\u001b[0;34m\u001b[0m\u001b[0m\n\u001b[0;32m----> 2\u001b[0;31m \u001b[0msplit_audio\u001b[0m \u001b[0;34m=\u001b[0m \u001b[0mnp\u001b[0m\u001b[0;34m.\u001b[0m\u001b[0msplit\u001b[0m\u001b[0;34m(\u001b[0m\u001b[0mstereo_audio\u001b[0m\u001b[0;34m,\u001b[0m\u001b[0mM\u001b[0m\u001b[0;34m)\u001b[0m\u001b[0;34m\u001b[0m\u001b[0;34m\u001b[0m\u001b[0m\n\u001b[0m\u001b[1;32m      3\u001b[0m \u001b[0;34m\u001b[0m\u001b[0m\n\u001b[1;32m      4\u001b[0m \u001b[0;31m#para una particion en particular seria algo como:\u001b[0m\u001b[0;34m\u001b[0m\u001b[0;34m\u001b[0m\u001b[0;34m\u001b[0m\u001b[0m\n\u001b[1;32m      5\u001b[0m \u001b[0;34m\u001b[0m\u001b[0m\n",
            "\u001b[0;32m/usr/local/lib/python3.6/dist-packages/numpy/lib/shape_base.py\u001b[0m in \u001b[0;36msplit\u001b[0;34m(ary, indices_or_sections, axis)\u001b[0m\n\u001b[1;32m    847\u001b[0m         \u001b[0;32mif\u001b[0m \u001b[0mN\u001b[0m \u001b[0;34m%\u001b[0m \u001b[0msections\u001b[0m\u001b[0;34m:\u001b[0m\u001b[0;34m\u001b[0m\u001b[0;34m\u001b[0m\u001b[0m\n\u001b[1;32m    848\u001b[0m             raise ValueError(\n\u001b[0;32m--> 849\u001b[0;31m                 'array split does not result in an equal division')\n\u001b[0m\u001b[1;32m    850\u001b[0m     \u001b[0mres\u001b[0m \u001b[0;34m=\u001b[0m \u001b[0marray_split\u001b[0m\u001b[0;34m(\u001b[0m\u001b[0mary\u001b[0m\u001b[0;34m,\u001b[0m \u001b[0mindices_or_sections\u001b[0m\u001b[0;34m,\u001b[0m \u001b[0maxis\u001b[0m\u001b[0;34m)\u001b[0m\u001b[0;34m\u001b[0m\u001b[0;34m\u001b[0m\u001b[0m\n\u001b[1;32m    851\u001b[0m     \u001b[0;32mreturn\u001b[0m \u001b[0mres\u001b[0m\u001b[0;34m\u001b[0m\u001b[0;34m\u001b[0m\u001b[0m\n",
            "\u001b[0;31mValueError\u001b[0m: array split does not result in an equal division"
          ]
        }
      ]
    }
  ]
}