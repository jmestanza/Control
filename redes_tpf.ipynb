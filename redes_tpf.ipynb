{
  "nbformat": 4,
  "nbformat_minor": 0,
  "metadata": {
    "colab": {
      "name": "redes_tpf.ipynb",
      "provenance": [],
      "collapsed_sections": [],
      "authorship_tag": "ABX9TyPQ8DawmFRnpitkMDc13gcY",
      "include_colab_link": true
    },
    "kernelspec": {
      "name": "python3",
      "display_name": "Python 3"
    },
    "language_info": {
      "name": "python"
    }
  },
  "cells": [
    {
      "cell_type": "markdown",
      "metadata": {
        "id": "view-in-github",
        "colab_type": "text"
      },
      "source": [
        "<a href=\"https://colab.research.google.com/github/jmestanza/Control/blob/master/redes_tpf.ipynb\" target=\"_parent\"><img src=\"https://colab.research.google.com/assets/colab-badge.svg\" alt=\"Open In Colab\"/></a>"
      ]
    },
    {
      "cell_type": "code",
      "metadata": {
        "colab": {
          "base_uri": "https://localhost:8080/"
        },
        "id": "cxtsVWrg92gz",
        "outputId": "b1c08085-05a8-4144-fa5d-080fe4a21501"
      },
      "source": [
        "!pip install geopandas\n",
        "!git clone https://github.com/jmestanza/tpf_redes"
      ],
      "execution_count": 1,
      "outputs": [
        {
          "output_type": "stream",
          "text": [
            "Collecting geopandas\n",
            "\u001b[?25l  Downloading https://files.pythonhosted.org/packages/d7/bf/e9cefb69d39155d122b6ddca53893b61535fa6ffdad70bf5ef708977f53f/geopandas-0.9.0-py2.py3-none-any.whl (994kB)\n",
            "\r\u001b[K     |▎                               | 10kB 15.2MB/s eta 0:00:01\r\u001b[K     |▋                               | 20kB 20.0MB/s eta 0:00:01\r\u001b[K     |█                               | 30kB 24.0MB/s eta 0:00:01\r\u001b[K     |█▎                              | 40kB 20.9MB/s eta 0:00:01\r\u001b[K     |█▋                              | 51kB 7.6MB/s eta 0:00:01\r\u001b[K     |██                              | 61kB 7.3MB/s eta 0:00:01\r\u001b[K     |██▎                             | 71kB 8.2MB/s eta 0:00:01\r\u001b[K     |██▋                             | 81kB 8.5MB/s eta 0:00:01\r\u001b[K     |███                             | 92kB 9.0MB/s eta 0:00:01\r\u001b[K     |███▎                            | 102kB 7.2MB/s eta 0:00:01\r\u001b[K     |███▋                            | 112kB 7.2MB/s eta 0:00:01\r\u001b[K     |████                            | 122kB 7.2MB/s eta 0:00:01\r\u001b[K     |████▎                           | 133kB 7.2MB/s eta 0:00:01\r\u001b[K     |████▋                           | 143kB 7.2MB/s eta 0:00:01\r\u001b[K     |█████                           | 153kB 7.2MB/s eta 0:00:01\r\u001b[K     |█████▎                          | 163kB 7.2MB/s eta 0:00:01\r\u001b[K     |█████▋                          | 174kB 7.2MB/s eta 0:00:01\r\u001b[K     |██████                          | 184kB 7.2MB/s eta 0:00:01\r\u001b[K     |██████▎                         | 194kB 7.2MB/s eta 0:00:01\r\u001b[K     |██████▋                         | 204kB 7.2MB/s eta 0:00:01\r\u001b[K     |███████                         | 215kB 7.2MB/s eta 0:00:01\r\u001b[K     |███████▎                        | 225kB 7.2MB/s eta 0:00:01\r\u001b[K     |███████▋                        | 235kB 7.2MB/s eta 0:00:01\r\u001b[K     |████████                        | 245kB 7.2MB/s eta 0:00:01\r\u001b[K     |████████▎                       | 256kB 7.2MB/s eta 0:00:01\r\u001b[K     |████████▋                       | 266kB 7.2MB/s eta 0:00:01\r\u001b[K     |█████████                       | 276kB 7.2MB/s eta 0:00:01\r\u001b[K     |█████████▎                      | 286kB 7.2MB/s eta 0:00:01\r\u001b[K     |█████████▌                      | 296kB 7.2MB/s eta 0:00:01\r\u001b[K     |█████████▉                      | 307kB 7.2MB/s eta 0:00:01\r\u001b[K     |██████████▏                     | 317kB 7.2MB/s eta 0:00:01\r\u001b[K     |██████████▌                     | 327kB 7.2MB/s eta 0:00:01\r\u001b[K     |██████████▉                     | 337kB 7.2MB/s eta 0:00:01\r\u001b[K     |███████████▏                    | 348kB 7.2MB/s eta 0:00:01\r\u001b[K     |███████████▌                    | 358kB 7.2MB/s eta 0:00:01\r\u001b[K     |███████████▉                    | 368kB 7.2MB/s eta 0:00:01\r\u001b[K     |████████████▏                   | 378kB 7.2MB/s eta 0:00:01\r\u001b[K     |████████████▌                   | 389kB 7.2MB/s eta 0:00:01\r\u001b[K     |████████████▉                   | 399kB 7.2MB/s eta 0:00:01\r\u001b[K     |█████████████▏                  | 409kB 7.2MB/s eta 0:00:01\r\u001b[K     |█████████████▌                  | 419kB 7.2MB/s eta 0:00:01\r\u001b[K     |█████████████▉                  | 430kB 7.2MB/s eta 0:00:01\r\u001b[K     |██████████████▏                 | 440kB 7.2MB/s eta 0:00:01\r\u001b[K     |██████████████▌                 | 450kB 7.2MB/s eta 0:00:01\r\u001b[K     |██████████████▉                 | 460kB 7.2MB/s eta 0:00:01\r\u001b[K     |███████████████▏                | 471kB 7.2MB/s eta 0:00:01\r\u001b[K     |███████████████▌                | 481kB 7.2MB/s eta 0:00:01\r\u001b[K     |███████████████▉                | 491kB 7.2MB/s eta 0:00:01\r\u001b[K     |████████████████▏               | 501kB 7.2MB/s eta 0:00:01\r\u001b[K     |████████████████▌               | 512kB 7.2MB/s eta 0:00:01\r\u001b[K     |████████████████▉               | 522kB 7.2MB/s eta 0:00:01\r\u001b[K     |█████████████████▏              | 532kB 7.2MB/s eta 0:00:01\r\u001b[K     |█████████████████▌              | 542kB 7.2MB/s eta 0:00:01\r\u001b[K     |█████████████████▉              | 552kB 7.2MB/s eta 0:00:01\r\u001b[K     |██████████████████▏             | 563kB 7.2MB/s eta 0:00:01\r\u001b[K     |██████████████████▌             | 573kB 7.2MB/s eta 0:00:01\r\u001b[K     |██████████████████▊             | 583kB 7.2MB/s eta 0:00:01\r\u001b[K     |███████████████████             | 593kB 7.2MB/s eta 0:00:01\r\u001b[K     |███████████████████▍            | 604kB 7.2MB/s eta 0:00:01\r\u001b[K     |███████████████████▊            | 614kB 7.2MB/s eta 0:00:01\r\u001b[K     |████████████████████            | 624kB 7.2MB/s eta 0:00:01\r\u001b[K     |████████████████████▍           | 634kB 7.2MB/s eta 0:00:01\r\u001b[K     |████████████████████▊           | 645kB 7.2MB/s eta 0:00:01\r\u001b[K     |█████████████████████           | 655kB 7.2MB/s eta 0:00:01\r\u001b[K     |█████████████████████▍          | 665kB 7.2MB/s eta 0:00:01\r\u001b[K     |█████████████████████▊          | 675kB 7.2MB/s eta 0:00:01\r\u001b[K     |██████████████████████          | 686kB 7.2MB/s eta 0:00:01\r\u001b[K     |██████████████████████▍         | 696kB 7.2MB/s eta 0:00:01\r\u001b[K     |██████████████████████▊         | 706kB 7.2MB/s eta 0:00:01\r\u001b[K     |███████████████████████         | 716kB 7.2MB/s eta 0:00:01\r\u001b[K     |███████████████████████▍        | 727kB 7.2MB/s eta 0:00:01\r\u001b[K     |███████████████████████▊        | 737kB 7.2MB/s eta 0:00:01\r\u001b[K     |████████████████████████        | 747kB 7.2MB/s eta 0:00:01\r\u001b[K     |████████████████████████▍       | 757kB 7.2MB/s eta 0:00:01\r\u001b[K     |████████████████████████▊       | 768kB 7.2MB/s eta 0:00:01\r\u001b[K     |█████████████████████████       | 778kB 7.2MB/s eta 0:00:01\r\u001b[K     |█████████████████████████▍      | 788kB 7.2MB/s eta 0:00:01\r\u001b[K     |█████████████████████████▊      | 798kB 7.2MB/s eta 0:00:01\r\u001b[K     |██████████████████████████      | 808kB 7.2MB/s eta 0:00:01\r\u001b[K     |██████████████████████████▍     | 819kB 7.2MB/s eta 0:00:01\r\u001b[K     |██████████████████████████▊     | 829kB 7.2MB/s eta 0:00:01\r\u001b[K     |███████████████████████████     | 839kB 7.2MB/s eta 0:00:01\r\u001b[K     |███████████████████████████▍    | 849kB 7.2MB/s eta 0:00:01\r\u001b[K     |███████████████████████████▊    | 860kB 7.2MB/s eta 0:00:01\r\u001b[K     |████████████████████████████    | 870kB 7.2MB/s eta 0:00:01\r\u001b[K     |████████████████████████████▎   | 880kB 7.2MB/s eta 0:00:01\r\u001b[K     |████████████████████████████▋   | 890kB 7.2MB/s eta 0:00:01\r\u001b[K     |█████████████████████████████   | 901kB 7.2MB/s eta 0:00:01\r\u001b[K     |█████████████████████████████▎  | 911kB 7.2MB/s eta 0:00:01\r\u001b[K     |█████████████████████████████▋  | 921kB 7.2MB/s eta 0:00:01\r\u001b[K     |██████████████████████████████  | 931kB 7.2MB/s eta 0:00:01\r\u001b[K     |██████████████████████████████▎ | 942kB 7.2MB/s eta 0:00:01\r\u001b[K     |██████████████████████████████▋ | 952kB 7.2MB/s eta 0:00:01\r\u001b[K     |███████████████████████████████ | 962kB 7.2MB/s eta 0:00:01\r\u001b[K     |███████████████████████████████▎| 972kB 7.2MB/s eta 0:00:01\r\u001b[K     |███████████████████████████████▋| 983kB 7.2MB/s eta 0:00:01\r\u001b[K     |████████████████████████████████| 993kB 7.2MB/s eta 0:00:01\r\u001b[K     |████████████████████████████████| 1.0MB 7.2MB/s \n",
            "\u001b[?25hRequirement already satisfied: shapely>=1.6 in /usr/local/lib/python3.7/dist-packages (from geopandas) (1.7.1)\n",
            "Collecting pyproj>=2.2.0\n",
            "\u001b[?25l  Downloading https://files.pythonhosted.org/packages/b1/72/d52e9ca81caef056062d71991b0e9b1d16af042245627c5d0e4916a36c4f/pyproj-3.0.1-cp37-cp37m-manylinux2010_x86_64.whl (6.5MB)\n",
            "\u001b[K     |████████████████████████████████| 6.5MB 34.8MB/s \n",
            "\u001b[?25hRequirement already satisfied: pandas>=0.24.0 in /usr/local/lib/python3.7/dist-packages (from geopandas) (1.1.5)\n",
            "Collecting fiona>=1.8\n",
            "\u001b[?25l  Downloading https://files.pythonhosted.org/packages/ea/2a/404b22883298a3efe9c6ef8d67acbf2c38443fa366ee9cd4cd34e17626ea/Fiona-1.8.19-cp37-cp37m-manylinux1_x86_64.whl (15.3MB)\n",
            "\u001b[K     |████████████████████████████████| 15.3MB 233kB/s \n",
            "\u001b[?25hRequirement already satisfied: certifi in /usr/local/lib/python3.7/dist-packages (from pyproj>=2.2.0->geopandas) (2020.12.5)\n",
            "Requirement already satisfied: pytz>=2017.2 in /usr/local/lib/python3.7/dist-packages (from pandas>=0.24.0->geopandas) (2018.9)\n",
            "Requirement already satisfied: python-dateutil>=2.7.3 in /usr/local/lib/python3.7/dist-packages (from pandas>=0.24.0->geopandas) (2.8.1)\n",
            "Requirement already satisfied: numpy>=1.15.4 in /usr/local/lib/python3.7/dist-packages (from pandas>=0.24.0->geopandas) (1.19.5)\n",
            "Collecting cligj>=0.5\n",
            "  Downloading https://files.pythonhosted.org/packages/42/1e/947eadf10d6804bf276eb8a038bd5307996dceaaa41cfd21b7a15ec62f5d/cligj-0.7.1-py3-none-any.whl\n",
            "Requirement already satisfied: attrs>=17 in /usr/local/lib/python3.7/dist-packages (from fiona>=1.8->geopandas) (21.2.0)\n",
            "Requirement already satisfied: six>=1.7 in /usr/local/lib/python3.7/dist-packages (from fiona>=1.8->geopandas) (1.15.0)\n",
            "Collecting munch\n",
            "  Downloading https://files.pythonhosted.org/packages/cc/ab/85d8da5c9a45e072301beb37ad7f833cd344e04c817d97e0cc75681d248f/munch-2.5.0-py2.py3-none-any.whl\n",
            "Collecting click-plugins>=1.0\n",
            "  Downloading https://files.pythonhosted.org/packages/e9/da/824b92d9942f4e472702488857914bdd50f73021efea15b4cad9aca8ecef/click_plugins-1.1.1-py2.py3-none-any.whl\n",
            "Collecting click<8,>=4.0\n",
            "\u001b[?25l  Downloading https://files.pythonhosted.org/packages/d2/3d/fa76db83bf75c4f8d338c2fd15c8d33fdd7ad23a9b5e57eb6c5de26b430e/click-7.1.2-py2.py3-none-any.whl (82kB)\n",
            "\u001b[K     |████████████████████████████████| 92kB 9.5MB/s \n",
            "\u001b[?25hInstalling collected packages: pyproj, click, cligj, munch, click-plugins, fiona, geopandas\n",
            "  Found existing installation: click 8.0.0\n",
            "    Uninstalling click-8.0.0:\n",
            "      Successfully uninstalled click-8.0.0\n",
            "Successfully installed click-7.1.2 click-plugins-1.1.1 cligj-0.7.1 fiona-1.8.19 geopandas-0.9.0 munch-2.5.0 pyproj-3.0.1\n",
            "Cloning into 'tpf_redes'...\n",
            "remote: Enumerating objects: 23, done.\u001b[K\n",
            "remote: Counting objects: 100% (23/23), done.\u001b[K\n",
            "remote: Compressing objects: 100% (22/22), done.\u001b[K\n",
            "remote: Total 23 (delta 4), reused 17 (delta 1), pack-reused 0\u001b[K\n",
            "Unpacking objects: 100% (23/23), done.\n"
          ],
          "name": "stdout"
        }
      ]
    },
    {
      "cell_type": "code",
      "metadata": {
        "id": "GZMRfSSGBD6y"
      },
      "source": [
        "import numpy as np"
      ],
      "execution_count": 24,
      "outputs": []
    },
    {
      "cell_type": "code",
      "metadata": {
        "colab": {
          "base_uri": "https://localhost:8080/",
          "height": 238
        },
        "id": "YuUfyJV78HVT",
        "outputId": "ec2d1f0f-a5e1-4107-c88b-6111f929a470"
      },
      "source": [
        "import geopandas as gpd\n",
        "# train_df = gpd.read_file(\"/kaggle/input/covid19-global-forecasting-week-4/train.csv\")\n",
        "prev_path = \"/kaggle/input/covid19-global-forecasting-week-4/train.csv\"\n",
        "curr_path = prev_path.replace(\"/kaggle/input\", \"/content/tpf_redes\")\n",
        "print(curr_path)\n",
        "train_df = gpd.read_file(curr_path)\n",
        "\n",
        "# format train dataframe\n",
        "train_df[\"ConfirmedCases\"] = train_df[\"ConfirmedCases\"].astype(\"float\")\n",
        "train_df[\"Fatalities\"] = train_df[\"Fatalities\"].astype(\"float\")\n",
        "train_df[\"Country_Region\"] = [ row.Country_Region.replace(\"'\",\"\").strip(\" \") if row.Province_State==\"\" else str(row.Country_Region+\"_\"+row.Province_State).replace(\"'\",\"\").strip(\" \") for idx,row in train_df.iterrows()]\n",
        "Argentina_df = train_df.loc[train_df['Country_Region'] == 'Argentina']\n",
        "print(\"first date:\", Argentina_df.iloc[0].Date, \"last date: \", Argentina_df.iloc[-1].Date)\n",
        "train_df.head()"
      ],
      "execution_count": 15,
      "outputs": [
        {
          "output_type": "stream",
          "text": [
            "/content/tpf_redes/covid19-global-forecasting-week-4/train.csv\n",
            "first date: 2020-01-22 last date:  2020-05-15\n"
          ],
          "name": "stdout"
        },
        {
          "output_type": "execute_result",
          "data": {
            "text/html": [
              "<div>\n",
              "<style scoped>\n",
              "    .dataframe tbody tr th:only-of-type {\n",
              "        vertical-align: middle;\n",
              "    }\n",
              "\n",
              "    .dataframe tbody tr th {\n",
              "        vertical-align: top;\n",
              "    }\n",
              "\n",
              "    .dataframe thead th {\n",
              "        text-align: right;\n",
              "    }\n",
              "</style>\n",
              "<table border=\"1\" class=\"dataframe\">\n",
              "  <thead>\n",
              "    <tr style=\"text-align: right;\">\n",
              "      <th></th>\n",
              "      <th>Id</th>\n",
              "      <th>Province_State</th>\n",
              "      <th>Country_Region</th>\n",
              "      <th>Date</th>\n",
              "      <th>ConfirmedCases</th>\n",
              "      <th>Fatalities</th>\n",
              "      <th>geometry</th>\n",
              "    </tr>\n",
              "  </thead>\n",
              "  <tbody>\n",
              "    <tr>\n",
              "      <th>0</th>\n",
              "      <td>1</td>\n",
              "      <td></td>\n",
              "      <td>Afghanistan</td>\n",
              "      <td>2020-01-22</td>\n",
              "      <td>0.0</td>\n",
              "      <td>0.0</td>\n",
              "      <td>None</td>\n",
              "    </tr>\n",
              "    <tr>\n",
              "      <th>1</th>\n",
              "      <td>2</td>\n",
              "      <td></td>\n",
              "      <td>Afghanistan</td>\n",
              "      <td>2020-01-23</td>\n",
              "      <td>0.0</td>\n",
              "      <td>0.0</td>\n",
              "      <td>None</td>\n",
              "    </tr>\n",
              "    <tr>\n",
              "      <th>2</th>\n",
              "      <td>3</td>\n",
              "      <td></td>\n",
              "      <td>Afghanistan</td>\n",
              "      <td>2020-01-24</td>\n",
              "      <td>0.0</td>\n",
              "      <td>0.0</td>\n",
              "      <td>None</td>\n",
              "    </tr>\n",
              "    <tr>\n",
              "      <th>3</th>\n",
              "      <td>4</td>\n",
              "      <td></td>\n",
              "      <td>Afghanistan</td>\n",
              "      <td>2020-01-25</td>\n",
              "      <td>0.0</td>\n",
              "      <td>0.0</td>\n",
              "      <td>None</td>\n",
              "    </tr>\n",
              "    <tr>\n",
              "      <th>4</th>\n",
              "      <td>5</td>\n",
              "      <td></td>\n",
              "      <td>Afghanistan</td>\n",
              "      <td>2020-01-26</td>\n",
              "      <td>0.0</td>\n",
              "      <td>0.0</td>\n",
              "      <td>None</td>\n",
              "    </tr>\n",
              "  </tbody>\n",
              "</table>\n",
              "</div>"
            ],
            "text/plain": [
              "  Id Province_State Country_Region  ... ConfirmedCases  Fatalities  geometry\n",
              "0  1                   Afghanistan  ...            0.0         0.0      None\n",
              "1  2                   Afghanistan  ...            0.0         0.0      None\n",
              "2  3                   Afghanistan  ...            0.0         0.0      None\n",
              "3  4                   Afghanistan  ...            0.0         0.0      None\n",
              "4  5                   Afghanistan  ...            0.0         0.0      None\n",
              "\n",
              "[5 rows x 7 columns]"
            ]
          },
          "metadata": {
            "tags": []
          },
          "execution_count": 15
        }
      ]
    },
    {
      "cell_type": "code",
      "metadata": {
        "colab": {
          "base_uri": "https://localhost:8080/"
        },
        "id": "4uzWL-5Y8s2y",
        "outputId": "785ba3d9-5d74-4d68-ebff-6eab19de2d64"
      },
      "source": [
        "#Still using the enriched data from week 2 as there is everything required for the model's training\n",
        "# ../input/enriched-covid-19-week-2\n",
        "prev_path = \"/kaggle/input/enriched-covid-19-week-2/enriched_covid_19_week_2.csv\"\n",
        "curr_path = prev_path.replace(\"/kaggle/input\", \"/content/tpf_redes\")\n",
        "print(curr_path)\n",
        "extra_data_df = gpd.read_file(curr_path)\n",
        "extra_data_df[\"Country_Region\"] = [country_name.replace(\"'\",\"\") for country_name in extra_data_df[\"Country_Region\"]]\n",
        "extra_data_df[\"restrictions\"] = extra_data_df[\"restrictions\"].astype(\"int\")\n",
        "extra_data_df[\"quarantine\"] = extra_data_df[\"quarantine\"].astype(\"int\")\n",
        "extra_data_df[\"schools\"] = extra_data_df[\"schools\"].astype(\"int\")\n",
        "extra_data_df[\"total_pop\"] = extra_data_df[\"total_pop\"].astype(\"float\")\n",
        "extra_data_df[\"density\"] = extra_data_df[\"density\"].astype(\"float\")\n",
        "extra_data_df[\"hospibed\"] = extra_data_df[\"hospibed\"].astype(\"float\")\n",
        "extra_data_df[\"lung\"] = extra_data_df[\"lung\"].astype(\"float\")\n",
        "extra_data_df[\"total_pop\"] = extra_data_df[\"total_pop\"]/max(extra_data_df[\"total_pop\"])\n",
        "extra_data_df[\"density\"] = extra_data_df[\"density\"]/max(extra_data_df[\"density\"])\n",
        "extra_data_df[\"hospibed\"] = extra_data_df[\"hospibed\"]/max(extra_data_df[\"hospibed\"])\n",
        "extra_data_df[\"lung\"] = extra_data_df[\"lung\"]/max(extra_data_df[\"lung\"])\n",
        "extra_data_df[\"age_100+\"] = extra_data_df[\"age_100+\"].astype(\"float\")\n",
        "extra_data_df[\"age_100+\"] = extra_data_df[\"age_100+\"]/max(extra_data_df[\"age_100+\"])\n",
        "\n",
        "extra_data_df = extra_data_df[[\"Country_Region\",\"Date\",\"restrictions\",\"quarantine\",\"schools\",\"hospibed\",\"lung\",\"total_pop\",\"density\",\"age_100+\"]]\n",
        "extra_data_df.head()\n",
        "\n",
        "Argentina_df = extra_data_df.loc[extra_data_df['Country_Region'] == 'Argentina']\n",
        "print(\"first date:\", Argentina_df.iloc[0].Date, \"last date: \", Argentina_df.iloc[-1].Date)"
      ],
      "execution_count": 14,
      "outputs": [
        {
          "output_type": "stream",
          "text": [
            "/content/tpf_redes/enriched-covid-19-week-2/enriched_covid_19_week_2.csv\n",
            "first date: 2020-01-22 last date:  2020-03-25\n"
          ],
          "name": "stdout"
        }
      ]
    },
    {
      "cell_type": "code",
      "metadata": {
        "id": "8eXrqw_7EUqy",
        "colab": {
          "base_uri": "https://localhost:8080/",
          "height": 204
        },
        "outputId": "5ffbe70b-e0fe-4353-ce00-1ac0e0ba7530"
      },
      "source": [
        "train_df = train_df.merge(extra_data_df, how=\"left\", on=['Country_Region','Date']).drop_duplicates()\n",
        "train_df.head()"
      ],
      "execution_count": 20,
      "outputs": [
        {
          "output_type": "execute_result",
          "data": {
            "text/html": [
              "<div>\n",
              "<style scoped>\n",
              "    .dataframe tbody tr th:only-of-type {\n",
              "        vertical-align: middle;\n",
              "    }\n",
              "\n",
              "    .dataframe tbody tr th {\n",
              "        vertical-align: top;\n",
              "    }\n",
              "\n",
              "    .dataframe thead th {\n",
              "        text-align: right;\n",
              "    }\n",
              "</style>\n",
              "<table border=\"1\" class=\"dataframe\">\n",
              "  <thead>\n",
              "    <tr style=\"text-align: right;\">\n",
              "      <th></th>\n",
              "      <th>Id</th>\n",
              "      <th>Province_State</th>\n",
              "      <th>Country_Region</th>\n",
              "      <th>Date</th>\n",
              "      <th>ConfirmedCases</th>\n",
              "      <th>Fatalities</th>\n",
              "      <th>geometry</th>\n",
              "      <th>restrictions</th>\n",
              "      <th>quarantine</th>\n",
              "      <th>schools</th>\n",
              "      <th>hospibed</th>\n",
              "      <th>lung</th>\n",
              "      <th>total_pop</th>\n",
              "      <th>density</th>\n",
              "      <th>age_100+</th>\n",
              "    </tr>\n",
              "  </thead>\n",
              "  <tbody>\n",
              "    <tr>\n",
              "      <th>0</th>\n",
              "      <td>1</td>\n",
              "      <td></td>\n",
              "      <td>Afghanistan</td>\n",
              "      <td>2020-01-22</td>\n",
              "      <td>0.0</td>\n",
              "      <td>0.0</td>\n",
              "      <td>None</td>\n",
              "      <td>0.0</td>\n",
              "      <td>0.0</td>\n",
              "      <td>0.0</td>\n",
              "      <td>0.036232</td>\n",
              "      <td>0.329191</td>\n",
              "      <td>0.027046</td>\n",
              "      <td>0.002278</td>\n",
              "      <td>0.001411</td>\n",
              "    </tr>\n",
              "    <tr>\n",
              "      <th>1</th>\n",
              "      <td>2</td>\n",
              "      <td></td>\n",
              "      <td>Afghanistan</td>\n",
              "      <td>2020-01-23</td>\n",
              "      <td>0.0</td>\n",
              "      <td>0.0</td>\n",
              "      <td>None</td>\n",
              "      <td>0.0</td>\n",
              "      <td>0.0</td>\n",
              "      <td>0.0</td>\n",
              "      <td>0.036232</td>\n",
              "      <td>0.329191</td>\n",
              "      <td>0.027046</td>\n",
              "      <td>0.002278</td>\n",
              "      <td>0.001411</td>\n",
              "    </tr>\n",
              "    <tr>\n",
              "      <th>2</th>\n",
              "      <td>3</td>\n",
              "      <td></td>\n",
              "      <td>Afghanistan</td>\n",
              "      <td>2020-01-24</td>\n",
              "      <td>0.0</td>\n",
              "      <td>0.0</td>\n",
              "      <td>None</td>\n",
              "      <td>0.0</td>\n",
              "      <td>0.0</td>\n",
              "      <td>0.0</td>\n",
              "      <td>0.036232</td>\n",
              "      <td>0.329191</td>\n",
              "      <td>0.027046</td>\n",
              "      <td>0.002278</td>\n",
              "      <td>0.001411</td>\n",
              "    </tr>\n",
              "    <tr>\n",
              "      <th>3</th>\n",
              "      <td>4</td>\n",
              "      <td></td>\n",
              "      <td>Afghanistan</td>\n",
              "      <td>2020-01-25</td>\n",
              "      <td>0.0</td>\n",
              "      <td>0.0</td>\n",
              "      <td>None</td>\n",
              "      <td>0.0</td>\n",
              "      <td>0.0</td>\n",
              "      <td>0.0</td>\n",
              "      <td>0.036232</td>\n",
              "      <td>0.329191</td>\n",
              "      <td>0.027046</td>\n",
              "      <td>0.002278</td>\n",
              "      <td>0.001411</td>\n",
              "    </tr>\n",
              "    <tr>\n",
              "      <th>4</th>\n",
              "      <td>5</td>\n",
              "      <td></td>\n",
              "      <td>Afghanistan</td>\n",
              "      <td>2020-01-26</td>\n",
              "      <td>0.0</td>\n",
              "      <td>0.0</td>\n",
              "      <td>None</td>\n",
              "      <td>0.0</td>\n",
              "      <td>0.0</td>\n",
              "      <td>0.0</td>\n",
              "      <td>0.036232</td>\n",
              "      <td>0.329191</td>\n",
              "      <td>0.027046</td>\n",
              "      <td>0.002278</td>\n",
              "      <td>0.001411</td>\n",
              "    </tr>\n",
              "  </tbody>\n",
              "</table>\n",
              "</div>"
            ],
            "text/plain": [
              "  Id Province_State Country_Region  ... total_pop   density  age_100+\n",
              "0  1                   Afghanistan  ...  0.027046  0.002278  0.001411\n",
              "1  2                   Afghanistan  ...  0.027046  0.002278  0.001411\n",
              "2  3                   Afghanistan  ...  0.027046  0.002278  0.001411\n",
              "3  4                   Afghanistan  ...  0.027046  0.002278  0.001411\n",
              "4  5                   Afghanistan  ...  0.027046  0.002278  0.001411\n",
              "\n",
              "[5 rows x 15 columns]"
            ]
          },
          "metadata": {
            "tags": []
          },
          "execution_count": 20
        }
      ]
    },
    {
      "cell_type": "markdown",
      "metadata": {
        "id": "hXdIC8Dg6cSP"
      },
      "source": [
        "**enriched** nos da informacion desde el 22/01/2020 al 25/03/2020\n",
        "\n",
        "**train_df** nos da informacion desde el 22/01/2020 al 15/05/2020\n",
        "\n",
        "Por lo cual para poder unir enriched => tenemos que agregar informacion entre esas fechas"
      ]
    },
    {
      "cell_type": "code",
      "metadata": {
        "id": "OkrfWcaX6b3G"
      },
      "source": [
        "for country_region in train_df.Country_Region.unique():\n",
        "    query_df = train_df.query(\"Country_Region=='\"+country_region+\"' and Date=='2020-03-25'\")\n",
        "    train_df.loc[(train_df[\"Country_Region\"]==country_region) & (train_df[\"Date\"]>\"2020-03-25\"),\"total_pop\"] = query_df.total_pop.values[0]\n",
        "    train_df.loc[(train_df[\"Country_Region\"]==country_region) & (train_df[\"Date\"]>\"2020-03-25\"),\"hospibed\"] = query_df.hospibed.values[0]\n",
        "    train_df.loc[(train_df[\"Country_Region\"]==country_region) & (train_df[\"Date\"]>\"2020-03-25\"),\"density\"] = query_df.density.values[0]\n",
        "    train_df.loc[(train_df[\"Country_Region\"]==country_region) & (train_df[\"Date\"]>\"2020-03-25\"),\"lung\"] = query_df.lung.values[0]\n",
        "    train_df.loc[(train_df[\"Country_Region\"]==country_region) & (train_df[\"Date\"]>\"2020-03-25\"),\"age_100+\"] = query_df[\"age_100+\"].values[0]\n",
        "    train_df.loc[(train_df[\"Country_Region\"]==country_region) & (train_df[\"Date\"]>\"2020-03-25\"),\"restrictions\"] = query_df.restrictions.values[0]\n",
        "    train_df.loc[(train_df[\"Country_Region\"]==country_region) & (train_df[\"Date\"]>\"2020-03-25\"),\"quarantine\"] = query_df.quarantine.values[0]\n",
        "    train_df.loc[(train_df[\"Country_Region\"]==country_region) & (train_df[\"Date\"]>\"2020-03-25\"),\"schools\"] = query_df.schools.values[0]"
      ],
      "execution_count": 22,
      "outputs": []
    },
    {
      "cell_type": "markdown",
      "metadata": {
        "id": "Ox5_wWseA22G"
      },
      "source": [
        "=> hay que agregar nuevos paises y donde no sabemos, rellenamos con mediana"
      ]
    },
    {
      "cell_type": "code",
      "metadata": {
        "colab": {
          "base_uri": "https://localhost:8080/"
        },
        "id": "B9poh1qW3C9l",
        "outputId": "93f84334-13df-4fab-a086-6a8cc42e8f3e"
      },
      "source": [
        "median_pop = np.median(extra_data_df.total_pop)\n",
        "median_hospibed = np.median(extra_data_df.hospibed)\n",
        "median_density = np.median(extra_data_df.density)\n",
        "median_lung = np.median(extra_data_df.lung)\n",
        "median_centenarian_pop = np.median(extra_data_df[\"age_100+\"])\n",
        "#need to replace that with a joint using Pandas\n",
        "print(\"The missing countries/region are:\")\n",
        "for country_region in train_df.Country_Region.unique():\n",
        "    if extra_data_df.query(\"Country_Region=='\"+country_region+\"'\").empty:\n",
        "        print(country_region)\n",
        "        \n",
        "        train_df.loc[train_df[\"Country_Region\"]==country_region,\"total_pop\"] = median_pop\n",
        "        train_df.loc[train_df[\"Country_Region\"]==country_region,\"hospibed\"] = median_hospibed\n",
        "        train_df.loc[train_df[\"Country_Region\"]==country_region,\"density\"] = median_density\n",
        "        train_df.loc[train_df[\"Country_Region\"]==country_region,\"lung\"] = median_lung\n",
        "        train_df.loc[train_df[\"Country_Region\"]==country_region,\"age_100+\"] = median_centenarian_pop\n",
        "        train_df.loc[train_df[\"Country_Region\"]==country_region,\"restrictions\"] = 0\n",
        "        train_df.loc[train_df[\"Country_Region\"]==country_region,\"quarantine\"] = 0\n",
        "        train_df.loc[train_df[\"Country_Region\"]==country_region,\"schools\"] = 0"
      ],
      "execution_count": 25,
      "outputs": [
        {
          "output_type": "stream",
          "text": [
            "The missing countries/region are:\n",
            "Botswana\n",
            "Burma\n",
            "Burundi\n",
            "Canada_Northwest Territories\n",
            "Canada_Yukon\n",
            "France_Saint Pierre and Miquelon\n",
            "Kosovo\n",
            "MS Zaandam\n",
            "Malawi\n",
            "Netherlands_Bonaire, Sint Eustatius and Saba\n",
            "Sao Tome and Principe\n",
            "Sierra Leone\n",
            "South Sudan\n",
            "United Kingdom_Anguilla\n",
            "United Kingdom_British Virgin Islands\n",
            "United Kingdom_Falkland Islands (Malvinas)\n",
            "United Kingdom_Turks and Caicos Islands\n",
            "West Bank and Gaza\n",
            "Western Sahara\n"
          ],
          "name": "stdout"
        }
      ]
    },
    {
      "cell_type": "markdown",
      "metadata": {
        "id": "bRzI4ukyBfSp"
      },
      "source": [
        ""
      ]
    },
    {
      "cell_type": "code",
      "metadata": {
        "id": "_zVtaBVnBc3K"
      },
      "source": [
        "trend_df = pd.DataFrame(columns={\"infection_trend\",\"fatality_trend\",\"quarantine_trend\",\"school_trend\",\"total_population\",\"expected_cases\",\"expected_fatalities\"})"
      ],
      "execution_count": null,
      "outputs": []
    },
    {
      "cell_type": "code",
      "metadata": {
        "id": "K58RXc9JBBpJ"
      },
      "source": [
        ""
      ],
      "execution_count": null,
      "outputs": []
    }
  ]
}